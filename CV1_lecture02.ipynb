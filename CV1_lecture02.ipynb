{
 "cells": [
  {
   "cell_type": "markdown",
   "id": "29c1f792-277f-42df-a917-720c33ff2138",
   "metadata": {},
   "source": [
    "## 2.0. Bonus: Gamma - brightness and contrast adjusment\n",
    "Gamma correction for underexposed images </br>\n",
    "https://docs.opencv.org/3.4/d3/dc1/tutorial_basic_linear_transform.html"
   ]
  },
  {
   "cell_type": "code",
   "execution_count": null,
   "id": "76cc0b73-c001-47c7-8864-d733781c861e",
   "metadata": {},
   "outputs": [],
   "source": []
  },
  {
   "cell_type": "markdown",
   "id": "5d0b63e9-140a-47b7-97b0-6f04d0fb7c6d",
   "metadata": {},
   "source": [
    "## 2.1. Thresholds\n",
    "Thresholds are a big topic in image processing, so more details can be found in the opencv documentation: </br>\n",
    "https://docs.opencv.org/4.x/d7/d4d/tutorial_py_thresholding.html"
   ]
  },
  {
   "cell_type": "code",
   "execution_count": 1,
   "id": "2f6fbe3a-3a85-4a8b-b42d-0b55702a2a5d",
   "metadata": {},
   "outputs": [],
   "source": [
    "# tutaj pokazuje np. odejmując -30 od niebieskiego, następnie daję przykład inRange, a następnie logiczne and/or\n",
    "# wytłumaczyć czym są thresholdy i pokazać na prezentacji\n",
    "# https://docs.opencv.org/4.x/d7/d4d/tutorial_py_thresholding.html\n",
    "# od razu powiedzieć o adaptive threshold i otsu bin"
   ]
  },
  {
   "cell_type": "code",
   "execution_count": null,
   "id": "893e1c26-bbac-42fc-ab5c-388ad82a39b2",
   "metadata": {},
   "outputs": [],
   "source": [
    "## 2.2. Filters and Blurs\n",
    "Thresholds are a big topic in image processing, so more details can be found in the opencv documentation: <\n",
    "https://docs.opencv.org/4.x/d7/d4d/tutorial_py_thresholding.html"
   ]
  },
  {
   "cell_type": "code",
   "execution_count": null,
   "id": "6a9ca1ce-902e-491a-8544-b7df6e95ea88",
   "metadata": {},
   "outputs": [],
   "source": []
  }
 ],
 "metadata": {
  "kernelspec": {
   "display_name": "Python 3 (ipykernel)",
   "language": "python",
   "name": "python3"
  },
  "language_info": {
   "codemirror_mode": {
    "name": "ipython",
    "version": 3
   },
   "file_extension": ".py",
   "mimetype": "text/x-python",
   "name": "python",
   "nbconvert_exporter": "python",
   "pygments_lexer": "ipython3",
   "version": "3.11.5"
  }
 },
 "nbformat": 4,
 "nbformat_minor": 5
}
